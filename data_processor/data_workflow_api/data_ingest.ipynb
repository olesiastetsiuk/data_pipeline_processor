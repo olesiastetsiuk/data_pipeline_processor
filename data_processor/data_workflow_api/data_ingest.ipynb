{
 "metadata": {
  "language_info": {
   "codemirror_mode": {
    "name": "ipython",
    "version": 3
   },
   "file_extension": ".py",
   "mimetype": "text/x-python",
   "name": "python",
   "nbconvert_exporter": "python",
   "pygments_lexer": "ipython3",
   "version": "3.6.9-final"
  },
  "orig_nbformat": 2,
  "kernelspec": {
   "name": "python36964bit58f278c5b84d48bf877be608f397689d",
   "display_name": "Python 3.6.9 64-bit"
  }
 },
 "nbformat": 4,
 "nbformat_minor": 2,
 "cells": [
  {
   "cell_type": "code",
   "execution_count": 1,
   "metadata": {},
   "outputs": [],
   "source": [
    "from celery_tasks import load_csv_to_postgre, load_meta_data_to_postgre, put_data_s3_by_record_from_query"
   ]
  },
  {
   "cell_type": "code",
   "execution_count": null,
   "metadata": {},
   "outputs": [],
   "source": [
    "path_to_csv_to_load_to_postgre = ''\n",
    "path_to_dataset = '' # make sure is has subfolders named styles and images\n"
   ]
  },
  {
   "cell_type": "code",
   "execution_count": null,
   "metadata": {},
   "outputs": [],
   "source": [
    "load_csv_to_postgre_ = load_csv_to_postgre.apply_async(queue='low_priority', args=(path_to_csv_to_load_to_postgre))\n",
    "load_csv_to_postgre_.ready()\n",
    "load_csv_to_postgre_.get(timeout=100)"
   ]
  },
  {
   "cell_type": "code",
   "execution_count": null,
   "metadata": {},
   "outputs": [],
   "source": [
    "load_meta_data_to_postgre_ = load_meta_data_to_postgre.apply_async(queue='low_priority', args=(path_to_dataset))\n",
    "load_meta_data_to_postgre_.ready()\n",
    "load_meta_data_to_postgre_.get(timeout=100)"
   ]
  },
  {
   "cell_type": "code",
   "execution_count": null,
   "metadata": {},
   "outputs": [],
   "source": [
    "put_data_s3_by_record_from_query_ = put_data_s3_by_record_from_query.apply_async(queue='low_priority', args=(path_to_dataset))\n",
    "put_data_s3_by_record_from_query_.ready()\n",
    "put_data_s3_by_record_from_query_.get(timeout=100)"
   ]
  }
 ]
}