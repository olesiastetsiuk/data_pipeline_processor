{
 "metadata": {
  "language_info": {
   "codemirror_mode": {
    "name": "ipython",
    "version": 3
   },
   "file_extension": ".py",
   "mimetype": "text/x-python",
   "name": "python",
   "nbconvert_exporter": "python",
   "pygments_lexer": "ipython3",
   "version": "3.6.9-final"
  },
  "orig_nbformat": 2,
  "kernelspec": {
   "name": "python36964bit58f278c5b84d48bf877be608f397689d",
   "display_name": "Python 3.6.9 64-bit"
  }
 },
 "nbformat": 4,
 "nbformat_minor": 2,
 "cells": [
  {
   "cell_type": "code",
   "execution_count": null,
   "metadata": {},
   "outputs": [],
   "source": [
    "import pandas as pd"
   ]
  },
  {
   "cell_type": "code",
   "execution_count": null,
   "metadata": {},
   "outputs": [],
   "source": [
    "from data_transformator.exploratory_data_analysis import plot_random_images_from_folder\n",
    "from data_transformator.get_augmentations import random_crop_transformation, resize_transformation\n",
    "from data_transformator.add_features_to_meta import add_landmarks"
   ]
  },
  {
   "cell_type": "code",
   "execution_count": null,
   "metadata": {},
   "outputs": [],
   "source": [
    "from query_celery_tasks import get_queried_data_from_s3_by_one, get_query_for_inspection, append_meta_data_postgre\n",
    "from queries_config import WOMEN_ACCESSORIES_CASUAL_QUERY, MAN_OPEN_SHOES_FALL, UNISEX_SUMMER, META_DATA_UPDATE_QUERY"
   ]
  },
  {
   "cell_type": "code",
   "execution_count": null,
   "metadata": {},
   "outputs": [],
   "source": [
    "PATH_TO_SAVE_CSV = '/data_pipeline/data_pipeline_processor/data/csv/'\n",
    "PATH_TO_SAVE_IMAGES = '/data_pipeline/data_pipeline_processor/data/download'"
   ]
  },
  {
   "cell_type": "code",
   "execution_count": null,
   "metadata": {},
   "outputs": [],
   "source": [
    "women_accessories_casual_query = get_query_for_inspection.delay(WOMEN_ACCESSORIES_CASUAL_QUERY, 100, PATH_TO_SAVE_CSV)\n",
    "women_accessories_casual_query.ready()\n",
    "women_accessories_casual_query.get(timeout=10)"
   ]
  },
  {
   "cell_type": "code",
   "execution_count": null,
   "metadata": {},
   "outputs": [],
   "source": [
    "women_accessories_casual_query_df = pd.read_csv(\"data_pipeline/data_pipeline_processor/data/csv/SELECT_*_FROM_test_WHERE_gender='Women'_AND_masterCategory='Accessories'_AND_usage='Casual'.csv\")"
   ]
  },
  {
   "cell_type": "code",
   "execution_count": null,
   "metadata": {},
   "outputs": [],
   "source": [
    "women_accessories_casual_query_df.head(n=)"
   ]
  },
  {
   "cell_type": "code",
   "execution_count": null,
   "metadata": {},
   "outputs": [],
   "source": [
    "women_accessories_casual_query_df['subcategory'].value_counts().plot(kind='bar')"
   ]
  },
  {
   "cell_type": "code",
   "execution_count": null,
   "metadata": {},
   "outputs": [],
   "source": [
    "women_accessories_casual_query_df['season'].value_counts().plot(kind='bar')"
   ]
  },
  {
   "cell_type": "code",
   "execution_count": null,
   "metadata": {},
   "outputs": [],
   "source": [
    "women_accessories_casual_query_df['basecolour'].value_counts().plot(kind='bar')"
   ]
  },
  {
   "cell_type": "code",
   "execution_count": null,
   "metadata": {},
   "outputs": [],
   "source": [
    "folder_for_images = get_queried_data_from_s3_by_one.apply_async(queue='low_priority', args=(WOMEN_ACCESSORIES_CASUAL_QUERY, 100, PATH_TO_SAVE_IMAGES))\n",
    "folder_for_images.ready()\n",
    "folder_for_images.get(timeout=100)"
   ]
  },
  {
   "cell_type": "code",
   "execution_count": null,
   "metadata": {},
   "outputs": [],
   "source": [
    "plot_random_images_from_folder('')"
   ]
  },
  {
   "cell_type": "code",
   "execution_count": null,
   "metadata": {},
   "outputs": [],
   "source": [
    "resize_transformation('/home/olysavra/datasqueezer/data_pipeline/data_pipeline_processor/data/fashion_dataset/15970.jpg', 65,65)"
   ]
  },
  {
   "cell_type": "code",
   "execution_count": null,
   "metadata": {},
   "outputs": [],
   "source": [
    "random_crop_transformation('/home/olysavra/datasqueezer/data_pipeline/data_pipeline_processor/data/fashion_dataset/15970.jpg', 0.2,0.2)"
   ]
  },
  {
   "cell_type": "code",
   "execution_count": null,
   "metadata": {},
   "outputs": [],
   "source": [
    "landmarks_config = ''\n",
    "checkpoints = ''"
   ]
  },
  {
   "cell_type": "code",
   "execution_count": null,
   "metadata": {},
   "outputs": [],
   "source": [
    "add_landmarks(landmarks_config, checkpoint)"
   ]
  }
 ]
}