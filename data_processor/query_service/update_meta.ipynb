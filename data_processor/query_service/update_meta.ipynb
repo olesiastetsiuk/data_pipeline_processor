{
 "metadata": {
  "language_info": {
   "codemirror_mode": {
    "name": "ipython",
    "version": 3
   },
   "file_extension": ".py",
   "mimetype": "text/x-python",
   "name": "python",
   "nbconvert_exporter": "python",
   "pygments_lexer": "ipython3",
   "version": 3
  },
  "orig_nbformat": 2
 },
 "nbformat": 4,
 "nbformat_minor": 2,
 "cells": [
  {
   "cell_type": "code",
   "execution_count": null,
   "metadata": {},
   "outputs": [],
   "source": [
    "import sys\n",
    "sys.path.insert(0, '/home/olysavra/datasqueezer/data_pipeline/data_pipeline_processor/')"
   ]
  },
  {
   "cell_type": "code",
   "execution_count": null,
   "metadata": {},
   "outputs": [],
   "source": [
    "from data_processor.data_transformator.add_features_to_meta import add_landmarks"
   ]
  },
  {
   "cell_type": "code",
   "execution_count": null,
   "metadata": {},
   "outputs": [],
   "source": [
    "from query_celery_tasks import get_queried_data_from_s3_by_one, get_query_for_inspection, append_meta_data_postgre"
   ]
  },
  {
   "cell_type": "code",
   "execution_count": null,
   "metadata": {},
   "outputs": [],
   "source": [
    "landmarks_config = '/home/olysavra/datasqueezer/data_pipeline/data_pipeline_processor/data_processor/data_transformator/pretrained_models/models_configs/landmark_detect_vgg.py'\n",
    "checkpoints = '/home/olysavra/datasqueezer/data_pipeline/data_pipeline_processor/data_processor/data_transformator/pretrained_models/checkpoint/latest.pth'"
   ]
  },
  {
   "cell_type": "code",
   "execution_count": null,
   "metadata": {},
   "outputs": [],
   "source": [
    "path = add_landmarks(landmarks_config, folder_for_images_path, checkpoints)\n",
    "print(path)"
   ]
  }
 ]
}